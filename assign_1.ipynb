{
 "cells": [
  {
   "cell_type": "code",
   "execution_count": 1,
   "id": "cb384843-c509-4a95-96b5-9bd7185bb360",
   "metadata": {},
   "outputs": [
    {
     "name": "stdout",
     "output_type": "stream",
     "text": [
      "jay sri ram\n"
     ]
    }
   ],
   "source": [
    "print(\"jay sri ram\")"
   ]
  },
  {
   "cell_type": "code",
   "execution_count": 2,
   "id": "c7fca6bf-e0a7-47af-ac5d-05e705218d96",
   "metadata": {},
   "outputs": [
    {
     "name": "stdout",
     "output_type": "stream",
     "text": [
      "<class 'str'>\n",
      "<class 'float'>\n",
      "<class 'list'>\n",
      "<class 'tuple'>\n"
     ]
    }
   ],
   "source": [
    "#Q1. Create one variable containing following type of data:\n",
    "q=['a','s','r']\n",
    "s=(\"girja\",\"hellow\")\n",
    "p=[\"girija\",29.6,q,s]\n",
    "for i in p:\n",
    "    print(type(i))\n",
    "    "
   ]
  },
  {
   "cell_type": "code",
   "execution_count": 5,
   "id": "c99dc105-96fb-4b92-8651-edcabc424f4a",
   "metadata": {},
   "outputs": [
    {
     "ename": "IndentationError",
     "evalue": "unexpected indent (3129833423.py, line 3)",
     "output_type": "error",
     "traceback": [
      "\u001b[0;36m  Cell \u001b[0;32mIn[5], line 3\u001b[0;36m\u001b[0m\n\u001b[0;31m    var2 = ‘[ DS , ML , Python]’\u001b[0m\n\u001b[0m    ^\u001b[0m\n\u001b[0;31mIndentationError\u001b[0m\u001b[0;31m:\u001b[0m unexpected indent\n"
     ]
    }
   ],
   "source": [
    "#Q2. Given are some following variables containing data:\n",
    "\n",
    " var2 = ‘[ DS , ML , Python]’\n",
    " type(var2)\n",
    "    "
   ]
  },
  {
   "cell_type": "code",
   "execution_count": 6,
   "id": "6521f2ba-de09-449e-a8ee-bbe64077b508",
   "metadata": {},
   "outputs": [
    {
     "data": {
      "text/plain": [
       "2.0"
      ]
     },
     "execution_count": 6,
     "metadata": {},
     "output_type": "execute_result"
    }
   ],
   "source": [
    "#Q3. Explain the use of the following operators using an example:\n",
    "6/3"
   ]
  },
  {
   "cell_type": "code",
   "execution_count": 7,
   "id": "cade404f-dfde-4605-9229-ab6953a3d730",
   "metadata": {},
   "outputs": [
    {
     "data": {
      "text/plain": [
       "2"
      ]
     },
     "execution_count": 7,
     "metadata": {},
     "output_type": "execute_result"
    }
   ],
   "source": [
    "5%3\n"
   ]
  },
  {
   "cell_type": "code",
   "execution_count": 8,
   "id": "240a6061-23b2-4a7e-ac67-a908b4b5aecc",
   "metadata": {},
   "outputs": [
    {
     "data": {
      "text/plain": [
       "64"
      ]
     },
     "execution_count": 8,
     "metadata": {},
     "output_type": "execute_result"
    }
   ],
   "source": [
    "8**2"
   ]
  },
  {
   "cell_type": "code",
   "execution_count": 9,
   "id": "45a44008-af72-4b8f-8544-bc54ffe68689",
   "metadata": {},
   "outputs": [
    {
     "data": {
      "text/plain": [
       "11"
      ]
     },
     "execution_count": 9,
     "metadata": {},
     "output_type": "execute_result"
    }
   ],
   "source": [
    "55//5"
   ]
  },
  {
   "cell_type": "code",
   "execution_count": 10,
   "id": "07d0fd78-d52d-4d4d-9ac3-1e73a9147889",
   "metadata": {},
   "outputs": [
    {
     "data": {
      "text/plain": [
       "7"
      ]
     },
     "execution_count": 10,
     "metadata": {},
     "output_type": "execute_result"
    }
   ],
   "source": [
    "71//9"
   ]
  },
  {
   "cell_type": "code",
   "execution_count": null,
   "id": "34ba555d-a58a-436c-a73d-6fc34384cac4",
   "metadata": {},
   "outputs": [],
   "source": [
    "#Q4. Create a list of length 10 of your choice containing multiple types of data. Using for loop print the\n",
    "element and its data type."
   ]
  },
  {
   "cell_type": "code",
   "execution_count": 14,
   "id": "0a078c0d-50b2-4177-8a6e-fb881ee066cb",
   "metadata": {},
   "outputs": [
    {
     "name": "stdout",
     "output_type": "stream",
     "text": [
      "girija <class 'str'>\n",
      "34.55 <class 'float'>\n",
      "45 <class 'str'>\n",
      "(5+4j) <class 'complex'>\n",
      "98 <class 'str'>\n",
      "88 <class 'str'>\n",
      "77 <class 'int'>\n",
      "12 <class 'int'>\n",
      "[1, 2, 3] <class 'list'>\n",
      "('girija', 'rama') <class 'tuple'>\n"
     ]
    }
   ],
   "source": [
    "a=[1,2,3]\n",
    "b=(\"girija\",\"rama\")\n",
    "p=[\"girija\",34.55,'45',5+4j,'98',\"88\",77,12,a,b]\n",
    "for i in p:\n",
    "    print(i,type(i))"
   ]
  },
  {
   "cell_type": "code",
   "execution_count": null,
   "id": "53cdb118-fbb4-49c7-ab2f-6c7dc1f8f4de",
   "metadata": {},
   "outputs": [],
   "source": [
    "#Q5. Using a while loop, verify if the number A is purely divisible by number B and if so then how many\n",
    "times it can be divisible."
   ]
  },
  {
   "cell_type": "code",
   "execution_count": 15,
   "id": "20948f2d-d15a-4127-bac8-625cfcec61c9",
   "metadata": {},
   "outputs": [
    {
     "name": "stdin",
     "output_type": "stream",
     "text": [
      "enter first no : 56\n",
      "enter first no : 8\n"
     ]
    },
    {
     "name": "stdout",
     "output_type": "stream",
     "text": [
      "the p is completly divisiable with q\n"
     ]
    }
   ],
   "source": [
    "p=int(input(\"enter first no :\"))\n",
    "q=int(input(\"enter first no :\"))\n",
    "if((p%q)==0):\n",
    "    print(\"the p is completly divisiable with q\")\n",
    "else:\n",
    "    print(\"it is not completly divisiable\")"
   ]
  },
  {
   "cell_type": "code",
   "execution_count": null,
   "id": "92454ce1-e2f3-425e-8a5a-98eaf1c779e8",
   "metadata": {},
   "outputs": [],
   "source": [
    "#Q6 Create a list containing 25 int type data. Using for loop and if-else condition print if the element is\n",
    "divisible by 3 or not."
   ]
  },
  {
   "cell_type": "code",
   "execution_count": 1,
   "id": "6435111d-2fe2-461d-ae2f-61a69bc55c05",
   "metadata": {},
   "outputs": [
    {
     "name": "stdout",
     "output_type": "stream",
     "text": [
      "3\n",
      "6\n",
      "9\n",
      "12\n",
      "33\n",
      "66\n",
      "36\n",
      "90\n",
      "45\n",
      "66\n"
     ]
    }
   ],
   "source": [
    "p=[1,2,3,4,5,6,7,8,9,12,33,66,36,90,56,45,44,66,67]\n",
    "for i in p:\n",
    "    if i%3==0:\n",
    "        print(i)"
   ]
  },
  {
   "cell_type": "code",
   "execution_count": null,
   "id": "0d2656a1-722d-4b13-acc1-74c8bb0efc69",
   "metadata": {},
   "outputs": [],
   "source": [
    "#Q7. What do you understand about mutable and immutable data types? Give examples for both showing\n",
    "this property."
   ]
  },
  {
   "cell_type": "code",
   "execution_count": 2,
   "id": "b4cfc1e4-b773-417a-a172-7bd32d95fd71",
   "metadata": {},
   "outputs": [
    {
     "ename": "TypeError",
     "evalue": "'tuple' object does not support item assignment",
     "output_type": "error",
     "traceback": [
      "\u001b[0;31m---------------------------------------------------------------------------\u001b[0m",
      "\u001b[0;31mTypeError\u001b[0m                                 Traceback (most recent call last)",
      "Cell \u001b[0;32mIn[2], line 2\u001b[0m\n\u001b[1;32m      1\u001b[0m tuple1 \u001b[38;5;241m=\u001b[39m (\u001b[38;5;241m0\u001b[39m, \u001b[38;5;241m1\u001b[39m, \u001b[38;5;241m2\u001b[39m, \u001b[38;5;241m3\u001b[39m) \n\u001b[0;32m----> 2\u001b[0m \u001b[43mtuple1\u001b[49m\u001b[43m[\u001b[49m\u001b[38;5;241;43m0\u001b[39;49m\u001b[43m]\u001b[49m \u001b[38;5;241m=\u001b[39m \u001b[38;5;241m4\u001b[39m\n\u001b[1;32m      3\u001b[0m \u001b[38;5;28mprint\u001b[39m(tuple1) \n",
      "\u001b[0;31mTypeError\u001b[0m: 'tuple' object does not support item assignment"
     ]
    }
   ],
   "source": [
    "tuple1 = (0, 1, 2, 3) \n",
    "tuple1[0] = 4\n",
    "print(tuple1) "
   ]
  },
  {
   "cell_type": "code",
   "execution_count": 3,
   "id": "b8eef05c-e818-4cc9-9bbf-1565cf3a7f6e",
   "metadata": {},
   "outputs": [
    {
     "name": "stdout",
     "output_type": "stream",
     "text": [
      "[1, 2, 3, 4]\n",
      "[1, 5, 2, 3, 4]\n",
      "[1, 5, 3, 4]\n",
      "[5, 3, 4]\n",
      "1\n"
     ]
    }
   ],
   "source": [
    "my_list = [1, 2, 3]\n",
    "my_list.append(4)\n",
    "print(my_list) \n",
    "\n",
    "my_list.insert(1, 5)\n",
    "print(my_list) \n",
    "\n",
    "my_list.remove(2)\n",
    "print(my_list) \n",
    "\n",
    "popped_element = my_list.pop(0)\n",
    "print(my_list)         \n",
    "print(popped_element)  "
   ]
  },
  {
   "cell_type": "code",
   "execution_count": null,
   "id": "a5d0e051-21a9-49b8-9504-9cdd3d66f79a",
   "metadata": {},
   "outputs": [],
   "source": []
  }
 ],
 "metadata": {
  "kernelspec": {
   "display_name": "Python 3 (ipykernel)",
   "language": "python",
   "name": "python3"
  },
  "language_info": {
   "codemirror_mode": {
    "name": "ipython",
    "version": 3
   },
   "file_extension": ".py",
   "mimetype": "text/x-python",
   "name": "python",
   "nbconvert_exporter": "python",
   "pygments_lexer": "ipython3",
   "version": "3.10.8"
  }
 },
 "nbformat": 4,
 "nbformat_minor": 5
}
