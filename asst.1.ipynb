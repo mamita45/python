{
  "nbformat": 4,
  "nbformat_minor": 0,
  "metadata": {
    "colab": {
      "provenance": []
    },
    "kernelspec": {
      "name": "python3",
      "display_name": "Python 3"
    },
    "language_info": {
      "name": "python"
    }
  },
  "cells": [
    {
      "cell_type": "code",
      "execution_count": 1,
      "metadata": {
        "id": "NSv-CQF0digI"
      },
      "outputs": [],
      "source": [
        "# 1.Explain the key features of Python that make it a popular choice for programming"
      ]
    },
    {
      "cell_type": "code",
      "source": [
        "#  1.Free and Open Source\n",
        "  #  2.Easy to code\n",
        "  #  3.Easy to Read\n",
        "  #  4. Object-Oriented Language\n",
        "  #  5. High-Level Language\n",
        "  #  6. Large Community Support\n",
        "  #  7. Easy to Debug\n"
      ],
      "metadata": {
        "id": "ImTiVdsqeFAJ"
      },
      "execution_count": 2,
      "outputs": []
    },
    {
      "cell_type": "code",
      "source": [
        "# 2.Describe the role of predefined keywords in Python and provide examples of how they are used in a program"
      ],
      "metadata": {
        "id": "aq2C1RH4e7Rm"
      },
      "execution_count": 3,
      "outputs": []
    },
    {
      "cell_type": "code",
      "source": [
        "# Keywords are predefined, reserved words used in Python programming that have special meanings to the compiler. We cannot use a keyword as a variable name, function name, or any other identifier. They are used to define the syntax and structure of the Python language."
      ],
      "metadata": {
        "id": "_sRQ3FXAfBtO"
      },
      "execution_count": 4,
      "outputs": []
    },
    {
      "cell_type": "code",
      "source": [
        "# 3.Compare and contrast mutable and immutable objects in Python with examples"
      ],
      "metadata": {
        "id": "W6UT5LccfUEl"
      },
      "execution_count": 5,
      "outputs": []
    },
    {
      "cell_type": "code",
      "source": [
        "# Certainly! In Python, objects can be categorized as either mutable or immutable. Let’s delve into the differences:\n",
        "\n",
        "# Immutable Objects:\n",
        "# Immutable objects cannot be modified after creation.\n",
        "# Examples of immutable objects include:\n",
        "# Strings: Once created, their content cannot be changed.\n",
        "# Tuples: Elements within a tuple cannot be modified1.\n",
        "# Numbers (integers, floats, etc.): Their values remain constan"
      ],
      "metadata": {
        "id": "unAI1VsFfdSd"
      },
      "execution_count": 6,
      "outputs": []
    },
    {
      "cell_type": "code",
      "source": [
        "# 4.Discuss the different types of operators in Python and provide examples of how they are used"
      ],
      "metadata": {
        "id": "F9XyBFIhfvqc"
      },
      "execution_count": 7,
      "outputs": []
    },
    {
      "cell_type": "code",
      "source": [
        "# Arithmetic Operators:\n",
        "\n",
        "# These operators perform mathematical operations on variables.\n",
        "# Examples:\n",
        "\n",
        "# Addition: 5+2=7\n",
        "\n",
        "# Subtraction: 4−2=2\n",
        "\n",
        "# Multiplication: 2×3=6\n",
        "\n",
        "# Division: 4/2=2\n",
        "\n",
        "# Floor Division: 10//3=3\n",
        "\n",
        "# Modulo (Remainder): 5%2=1\n",
        "\n",
        "# Exponentiation: 42=16\n",
        "\n",
        "# Assignment Operators:\n",
        "\n",
        "# These operators assign values to variables.\n",
        "# Examples:\n",
        "\n",
        "# Assignment: x=5\n",
        "\n",
        "# Addition Assignment: a+=1\n",
        "#  (Equivalent to a=a+1\n",
        "# )\n",
        "# Subtraction Assignment: a−=3\n",
        "#  (Equivalent to a=a−3\n",
        "# )\n",
        "# Multiplication Assignment: a∗=4\n",
        "#  (Equivalent to a=a×4\n",
        "# )\n",
        "# Division Assignment: a/=3\n",
        "#  (Equivalent to a=a/3\n",
        "# )\n",
        "# Remainder Assignment: a%=10\n",
        "#  (Equivalent to a=a%10\n",
        "# )\n",
        "# Exponent Assignment: a∗∗=10\n",
        "#  (Equivalent to a=a10\n",
        "# )\n",
        "\n",
        "\n",
        "# Python code example:a = 10\n",
        "# b = 5\n",
        "# a += b  # Assign the sum of a and b to a\n",
        "# print(a)  # Output: 15\n",
        "\n",
        "\n",
        "\n",
        "\n",
        "\n",
        "# Comparison Operators:\n",
        "\n",
        "# These operators compare two values and return a boolean result (True or False).\n",
        "# Examples:\n",
        "\n",
        "# Equal To: 3==5\n",
        "#  (False)\n",
        "# Not Equal To: 3=5\n",
        "#  (True)\n",
        "# Greater Than: 3>5\n",
        "#  (False)\n",
        "# Less Than: 3<5\n",
        "#  (True)\n",
        "# Greater Than or Equal To: 3≥5\n",
        "#  (False)\n",
        "# Less Than or Equal To: 3≤5\n"
      ],
      "metadata": {
        "id": "Q0FcPwvvf11e"
      },
      "execution_count": 8,
      "outputs": []
    },
    {
      "cell_type": "code",
      "source": [
        "#5.Explain the concept of type casting in Python with examples\n",
        "# 1.implicit Type Conversion:\n",
        "# In implicit type conversion, Python automatically converts one data type to another without user involvement.\n",
        "# 2.Explicit Type Conversion:\n",
        "# In explicit type conversion, the user explicitly converts a variable from one data type to another.\n",
        "# ex- = 5\n",
        "# n = str(a)\n",
        "# print(n)  # Output: '5'\n",
        "# print(type(n))  # Output: <class 'str'>\n",
        "\n",
        "# c = a + b\n",
        "# print(c)  # Output: 10.0\n",
        "# print(type(c))  # Output: <class 'float'>\n"
      ],
      "metadata": {
        "id": "nD70Iak5gztO"
      },
      "execution_count": 9,
      "outputs": []
    },
    {
      "cell_type": "code",
      "source": [
        "# 6.How do conditional statements work in Python? Illustrate with examples"
      ],
      "metadata": {
        "id": "1_iJZ7zCh7ch"
      },
      "execution_count": 10,
      "outputs": []
    },
    {
      "cell_type": "code",
      "source": [
        "# if Statement:\n",
        "# The simplest form of a conditional statement is the if statement.\n",
        "# Syntax:\n",
        "# Python\n",
        "\n",
        "# if <expr>:\n",
        "#     <statement>\n",
        "\n",
        "# Explanation:\n",
        "# <expr> is an expression evaluated in a Boolean context (e.g., checking if a value is true or false).\n",
        "# If <expr> is true (evaluates to a value that is “truthy”), then <statement> is executed.\n",
        "# Example:\n",
        "# Python\n",
        "\n",
        "# weather = \"sunny\"\n",
        "# if weather == \"sunny\":\n",
        "#     print(\"I'll go for a walk.\")\n",
        "\n",
        "# if-else Statement:\n",
        "# The if-else statement allows you to execute different code blocks based on a condition.\n",
        "# Syntax:\n",
        "# Python\n",
        "\n",
        "# if <expr>:\n",
        "#     <statement_if_true>\n",
        "# else:\n",
        "#     <statement_if_false>\n",
        "\n",
        "# Example:\n",
        "# Python\n",
        "\n",
        "# temperature = 25\n",
        "# if temperature > 30:\n",
        "#     print(\"It's hot outside.\")\n",
        "# else:\n",
        "#     print(\"It's pleasant.\")\n",
        "\n",
        "# if-elif-else Statement:\n",
        "# Use elif (short for “else if”) to handle multiple conditions.\n",
        "# Syntax:\n",
        "# Python\n",
        "\n",
        "# if <expr1>:\n",
        "#     <statement1>\n",
        "# elif <expr2>:\n",
        "#     <statement2>\n",
        "# else:\n",
        "#     <statement3>\n",
        "\n",
        "# Example:\n",
        "# Python\n",
        "\n",
        "# score = 85\n",
        "# if score >= 90:\n",
        "#     print(\"A\")\n",
        "# elif score >= 80:\n",
        "#     print(\"B\")\n",
        "# else:\n",
        "#     print(\"C\")\n",
        "\n",
        "# Nested Conditionals:\n",
        "# You can nest conditional statements inside each other.\n",
        "# Example:\n",
        "# Python\n",
        "\n",
        "# x = 10\n",
        "# if x > 5:\n",
        "#     if x < 15:\n",
        "#         print(\"x is between 5 and 15.\")"
      ],
      "metadata": {
        "id": "RKUekhQBiL6K"
      },
      "execution_count": 11,
      "outputs": []
    },
    {
      "cell_type": "code",
      "source": [
        "# 7.Describe the different types of loops in Python and their use cases with examples."
      ],
      "metadata": {
        "id": "c_NvHNG8i-Zo"
      },
      "execution_count": 12,
      "outputs": []
    },
    {
      "cell_type": "code",
      "source": [
        "# while Loop:\n",
        "# The while loop repeatedly executes a block of code as long as a condition remains true.\n",
        "# Syntax:\n",
        "# Python\n",
        "\n",
        "# while condition:\n",
        "#     # Code to execute\n",
        "\n",
        "# Example (printing numbers from 1 to 5):\n",
        "# Python\n",
        "\n",
        "# i = 1\n",
        "# while i <= 5:\n",
        "#     print(i)\n",
        "#     i += 1\n",
        "\n",
        "# Use cases:\n",
        "# When you want to iterate based on a condition that may change dynamically.\n",
        "# For tasks like reading data from a file until a specific condition is met.\n",
        "# for Loop:\n",
        "# The for loop iterates over a sequence (e.g., a list, tuple, string) and executes a block of code for each item.\n",
        "# Syntax:\n",
        "# Python\n",
        "\n",
        "# for item in sequence:\n",
        "#     # Code to execute\n",
        "\n",
        "# Example (printing elements of a list):\n",
        "# Python\n",
        "\n",
        "# fruits = [\"apple\", \"banana\", \"cherry\"]\n",
        "# for fruit in fruits:\n",
        "#     print(fruit)"
      ],
      "metadata": {
        "id": "x_RMfnrcjGWQ"
      },
      "execution_count": null,
      "outputs": []
    }
  ]
}