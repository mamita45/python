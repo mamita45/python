{
 "cells": [
  {
   "cell_type": "code",
   "execution_count": null,
   "id": "b146fb1f-fd74-4e15-8a65-a3554fe9e5c5",
   "metadata": {},
   "outputs": [],
   "source": [
    "d={}\n",
    "type(d)"
   ]
  },
  {
   "cell_type": "code",
   "execution_count": 2,
   "id": "82b4c008-304c-4a0b-8f3c-a79eca349271",
   "metadata": {},
   "outputs": [
    {
     "data": {
      "text/plain": [
       "{'key': 'hellow'}"
      ]
     },
     "execution_count": 2,
     "metadata": {},
     "output_type": "execute_result"
    }
   ],
   "source": [
    "d1={'key':\"hellow\"}\n",
    "d1"
   ]
  },
  {
   "cell_type": "code",
   "execution_count": 4,
   "id": "06a75999-6914-47d0-8e76-c169d385b6ce",
   "metadata": {},
   "outputs": [
    {
     "data": {
      "text/plain": [
       "{'name': 'sudhansu', 'email': 'tom_jerry', True: 894}"
      ]
     },
     "execution_count": 4,
     "metadata": {},
     "output_type": "execute_result"
    }
   ],
   "source": [
    "d2={'name':\"sudhansu\",'email':\"tom_jerry\",True : 894}\n",
    "d2"
   ]
  },
  {
   "cell_type": "code",
   "execution_count": 5,
   "id": "77804b44-64a8-4552-a988-2d41acd3d62f",
   "metadata": {},
   "outputs": [
    {
     "ename": "AttributeError",
     "evalue": "'dict' object has no attribute 'name'",
     "output_type": "error",
     "traceback": [
      "\u001b[0;31m---------------------------------------------------------------------------\u001b[0m",
      "\u001b[0;31mAttributeError\u001b[0m                            Traceback (most recent call last)",
      "Cell \u001b[0;32mIn[5], line 1\u001b[0m\n\u001b[0;32m----> 1\u001b[0m \u001b[43md2\u001b[49m\u001b[38;5;241;43m.\u001b[39;49m\u001b[43mname\u001b[49m\n",
      "\u001b[0;31mAttributeError\u001b[0m: 'dict' object has no attribute 'name'"
     ]
    }
   ],
   "source": [
    "d2.name"
   ]
  },
  {
   "cell_type": "code",
   "execution_count": 6,
   "id": "2680c926-6ab0-488a-b769-f70ec160a3e4",
   "metadata": {},
   "outputs": [
    {
     "data": {
      "text/plain": [
       "894"
      ]
     },
     "execution_count": 6,
     "metadata": {},
     "output_type": "execute_result"
    }
   ],
   "source": [
    "d2[True]"
   ]
  },
  {
   "cell_type": "code",
   "execution_count": 8,
   "id": "2d4590e3-917c-41a5-bd8c-9a3231deac0d",
   "metadata": {},
   "outputs": [
    {
     "ename": "KeyError",
     "evalue": "2",
     "output_type": "error",
     "traceback": [
      "\u001b[0;31m---------------------------------------------------------------------------\u001b[0m",
      "\u001b[0;31mKeyError\u001b[0m                                  Traceback (most recent call last)",
      "Cell \u001b[0;32mIn[8], line 1\u001b[0m\n\u001b[0;32m----> 1\u001b[0m \u001b[43md2\u001b[49m\u001b[43m[\u001b[49m\u001b[38;5;241;43m2\u001b[39;49m\u001b[43m]\u001b[49m\n",
      "\u001b[0;31mKeyError\u001b[0m: 2"
     ]
    }
   ],
   "source": [
    "d2[2]"
   ]
  },
  {
   "cell_type": "code",
   "execution_count": null,
   "id": "e8f01948-8fe9-4153-8894-41b2a0305da0",
   "metadata": {},
   "outputs": [],
   "source": []
  },
  {
   "cell_type": "code",
   "execution_count": 1,
   "id": "dab73933-23b4-4f1b-a431-ce12a4940a68",
   "metadata": {},
   "outputs": [
    {
     "data": {
      "text/plain": [
       "{'name': 'rama', 'email': 'naayy'}"
      ]
     },
     "execution_count": 1,
     "metadata": {},
     "output_type": "execute_result"
    }
   ],
   "source": [
    "d4={'name':\"rama\",'email':\"naayy\"}\n",
    "d4"
   ]
  },
  {
   "cell_type": "code",
   "execution_count": 2,
   "id": "0bdf386c-aba9-4776-b3eb-27e5125e2aed",
   "metadata": {},
   "outputs": [
    {
     "data": {
      "text/plain": [
       "'rama'"
      ]
     },
     "execution_count": 2,
     "metadata": {},
     "output_type": "execute_result"
    }
   ],
   "source": [
    "d4['name']"
   ]
  },
  {
   "cell_type": "code",
   "execution_count": 6,
   "id": "334937a4-3b56-4c75-9cc8-e3fcee66bded",
   "metadata": {},
   "outputs": [
    {
     "data": {
      "text/plain": [
       "[23, 56, 78]"
      ]
     },
     "execution_count": 6,
     "metadata": {},
     "output_type": "execute_result"
    }
   ],
   "source": [
    "e={'giria':\"joy\",'tom':[23,56,78]}\n",
    "e['tom']\n"
   ]
  },
  {
   "cell_type": "code",
   "execution_count": 8,
   "id": "8201bc50-b9df-4e80-8ba0-34fcd2a74cf3",
   "metadata": {},
   "outputs": [
    {
     "data": {
      "text/plain": [
       "['giria', 'tom']"
      ]
     },
     "execution_count": 8,
     "metadata": {},
     "output_type": "execute_result"
    }
   ],
   "source": [
    "list(e.keys())"
   ]
  },
  {
   "cell_type": "code",
   "execution_count": 9,
   "id": "76d77457-4017-473f-85e9-fe4b62ada982",
   "metadata": {},
   "outputs": [
    {
     "data": {
      "text/plain": [
       "dict_keys(['giria', 'tom'])"
      ]
     },
     "execution_count": 9,
     "metadata": {},
     "output_type": "execute_result"
    }
   ],
   "source": [
    "e.keys()"
   ]
  },
  {
   "cell_type": "code",
   "execution_count": 10,
   "id": "d484194b-c235-4c8c-8a0b-26b788c630dc",
   "metadata": {},
   "outputs": [
    {
     "data": {
      "text/plain": [
       "dict_items([('giria', 'joy'), ('tom', [23, 56, 78])])"
      ]
     },
     "execution_count": 10,
     "metadata": {},
     "output_type": "execute_result"
    }
   ],
   "source": [
    "e.items()"
   ]
  },
  {
   "cell_type": "code",
   "execution_count": 11,
   "id": "74d076b0-bdb3-422b-94f9-2d18750d6cc5",
   "metadata": {},
   "outputs": [
    {
     "data": {
      "text/plain": [
       "[('giria', 'joy'), ('tom', [23, 56, 78])]"
      ]
     },
     "execution_count": 11,
     "metadata": {},
     "output_type": "execute_result"
    }
   ],
   "source": [
    "list(e.items())"
   ]
  },
  {
   "cell_type": "code",
   "execution_count": 12,
   "id": "decda83e-cbaf-42f6-9060-051a1749725c",
   "metadata": {},
   "outputs": [
    {
     "data": {
      "text/plain": [
       "'joy'"
      ]
     },
     "execution_count": 12,
     "metadata": {},
     "output_type": "execute_result"
    }
   ],
   "source": [
    "e.pop('giria')"
   ]
  },
  {
   "cell_type": "code",
   "execution_count": null,
   "id": "4be27bb3-f6f4-48d8-8056-1f00308af8cc",
   "metadata": {},
   "outputs": [],
   "source": []
  },
  {
   "cell_type": "code",
   "execution_count": 13,
   "id": "df0a5c80-ee6e-40cd-9152-405b1f5a4f3b",
   "metadata": {},
   "outputs": [
    {
     "data": {
      "text/plain": [
       "('tom', [23, 56, 78])"
      ]
     },
     "execution_count": 13,
     "metadata": {},
     "output_type": "execute_result"
    }
   ],
   "source": [
    "e.popitem()"
   ]
  },
  {
   "cell_type": "code",
   "execution_count": 14,
   "id": "070a225f-1d1a-419f-953b-ee9043659b3a",
   "metadata": {},
   "outputs": [
    {
     "ename": "SyntaxError",
     "evalue": "invalid syntax (1956074016.py, line 1)",
     "output_type": "error",
     "traceback": [
      "\u001b[0;36m  Cell \u001b[0;32mIn[14], line 1\u001b[0;36m\u001b[0m\n\u001b[0;31m    e.update('tom':\"radha\")\u001b[0m\n\u001b[0m                  ^\u001b[0m\n\u001b[0;31mSyntaxError\u001b[0m\u001b[0;31m:\u001b[0m invalid syntax\n"
     ]
    }
   ],
   "source": [
    "e.update('tom':\"radha\")"
   ]
  },
  {
   "cell_type": "code",
   "execution_count": null,
   "id": "f730519f-089b-4daa-ac17-43760757ccb7",
   "metadata": {},
   "outputs": [],
   "source": []
  }
 ],
 "metadata": {
  "kernelspec": {
   "display_name": "Python 3 (ipykernel)",
   "language": "python",
   "name": "python3"
  },
  "language_info": {
   "codemirror_mode": {
    "name": "ipython",
    "version": 3
   },
   "file_extension": ".py",
   "mimetype": "text/x-python",
   "name": "python",
   "nbconvert_exporter": "python",
   "pygments_lexer": "ipython3",
   "version": "3.10.8"
  }
 },
 "nbformat": 4,
 "nbformat_minor": 5
}
